{
 "cells": [
  {
   "cell_type": "markdown",
   "id": "b24e7443-3d1e-47db-b10f-a6e07515c321",
   "metadata": {},
   "source": [
    "This notebooks is created using Chapter 2 of the the [Advanced NLP with spaCy](https://course.spacy.io/en/chapter2) course"
   ]
  },
  {
   "cell_type": "markdown",
   "id": "00edf023-0d9c-4c30-b81f-1dd12b45b65d",
   "metadata": {},
   "source": [
    "# Chapter 2: Large-scale data analysis with spaCy"
   ]
  },
  {
   "cell_type": "code",
   "execution_count": null,
   "id": "1a73eba6-5511-426c-8166-da9c26bc616f",
   "metadata": {},
   "outputs": [],
   "source": []
  }
 ],
 "metadata": {
  "kernelspec": {
   "display_name": "Python 3 (ipykernel)",
   "language": "python",
   "name": "python3"
  },
  "language_info": {
   "codemirror_mode": {
    "name": "ipython",
    "version": 3
   },
   "file_extension": ".py",
   "mimetype": "text/x-python",
   "name": "python",
   "nbconvert_exporter": "python",
   "pygments_lexer": "ipython3",
   "version": "3.12.2"
  }
 },
 "nbformat": 4,
 "nbformat_minor": 5
}
